{
 "cells": [
  {
   "cell_type": "code",
   "execution_count": null,
   "id": "eff61d38",
   "metadata": {},
   "outputs": [],
   "source": [
    "import matplotlib.pylab as plt\n",
    "# from matplotlib.backends.backend_pdf import PdfPages\n",
    "# from scipy.spatial.distance import correlation as scorr\n",
    "# from copulalib.copulalib import Copula\n",
    "# from scipy.optimize import minimize\n",
    "# from sklearn import manifold\n",
    "import numpy as np\n",
    "# import os.path\n",
    "# import glob\n",
    "# from utils import *\n",
    "from pyemd import emd\n",
    "# %pylab inline\n",
    "# import re\n",
    "\n",
    "# import pyemma.plots as mplt"
   ]
  },
  {
   "cell_type": "code",
   "execution_count": null,
   "id": "528de123",
   "metadata": {},
   "outputs": [],
   "source": [
    "def build_sigrature(x_all, y_all, z_all):\n",
    "    signatures = []\n",
    "    i = 0\n",
    "    for u1 in x_all[1:]:\n",
    "        j = 0\n",
    "        for u2 in y_all[1:]:\n",
    "            signatures.append([np.array([u1,u2]),z_all[i,j]])\n",
    "            j += 1\n",
    "        i += 1\n",
    "                        \n",
    "    return signatures"
   ]
  },
  {
   "cell_type": "code",
   "execution_count": null,
   "id": "52d76d7e",
   "metadata": {},
   "outputs": [],
   "source": [
    "def build_dist_mat(signatures):\n",
    "    N = len(signatures)\n",
    "    dist_mat = np.zeros((N,N))\n",
    "    for i in range(0,len(signatures)):\n",
    "        for j in range(i,len(signatures)):\n",
    "            v1 = signatures[i][0]\n",
    "            v2 = signatures[j][0]\n",
    "            dist_mat[i,j] = np.linalg.norm(v1-v2)\n",
    "            dist_mat[j,i] = dist_mat[i,j]\n",
    "    \n",
    "    return dist_mat"
   ]
  },
  {
   "cell_type": "markdown",
   "id": "ac36fc4e",
   "metadata": {},
   "source": [
    "### The \"build_emd_array\" function computes EMD values for all provided densities with respect to the first provided density. Thereby one can easily compute time resolved EMD comparions."
   ]
  },
  {
   "cell_type": "code",
   "execution_count": 1,
   "id": "768cabff",
   "metadata": {},
   "outputs": [],
   "source": [
    "# The build_emd_array function computes EMD values for all provided densities with respect to \n",
    "# the first provided density\n",
    "\n",
    "def build_emd_array(list_of_densities, list_of_labels, x_all, y_all):\n",
    "\n",
    "    all_val = list_of_densities\n",
    "    all_val_names = list_of_labels\n",
    "    to_plot = []\n",
    "    labels = []\n",
    "\n",
    "    print(\"Caution: If number of bins is > 30 calculations can be to long!\")\n",
    "    signatures = build_sigrature(x_all,y_all, all_val[0])\n",
    "    dist_mat = build_dist_mat(signatures)\n",
    "    \n",
    "    for i in range(1,len(all_val)):\n",
    "        tmp = []\n",
    "        if len(all_val[i].ravel()) > 100*100: \n",
    "            print(\"Histogramm is to big, reduce number of bins to max 100\")\n",
    "            return []\n",
    "        else: \n",
    "            sig_S = all_val[0].ravel()\n",
    "            sig_G = all_val[i].ravel()\n",
    "            dist_SG = emd(sig_S,sig_G,dist_mat)\n",
    "            to_plot.append(dist_SG)\n",
    "        labels.append(str(all_val_names[0])+\"_\"+str(all_val_names[i]))\n",
    "    \n",
    "    labels = np.array(labels)\n",
    "    to_plot = np.array(to_plot)\n",
    "    \n",
    "    centers = np.linspace(0, len(to_plot), len(to_plot))\n",
    "\n",
    "\n",
    "    f = plt.figure(figsize=(len(to_plot)+3, 4), dpi=100)\n",
    "    plt.xlim(-0.5, len(to_plot)+0.5)\n",
    "    plt.xticks(centers, labels)\n",
    "    plt.tick_params(axis='both', which='major', labelsize=14)\n",
    "\n",
    "    plt.title(r\"Earth Mover Distance\", fontsize = 20)\n",
    "    plt.plot(centers, 1-to_plot/max(to_plot), linewidth =3.5, marker = 'o')\n",
    "    \n",
    "    return to_plot"
   ]
  },
  {
   "cell_type": "code",
   "execution_count": null,
   "id": "fed0cdb9",
   "metadata": {},
   "outputs": [],
   "source": [
    "lst_all_loaded_projections = [np.load('')]  # the first histogram is the one all other provided histograms \n",
    "                                            # are compared to (i.e. the CG projection)\n",
    "    \n",
    "lst_of_projections_to_compare = []          # provide here all histograms that should be compared to the first one\n",
    "\n",
    "for projection in lst_of_projections_to_compare:\n",
    "    lst_all_loaded_projections.append(np.load(projection))"
   ]
  },
  {
   "cell_type": "code",
   "execution_count": null,
   "id": "6a85fa4a",
   "metadata": {},
   "outputs": [],
   "source": [
    "all_val_names = [\"\"]   ### List of names of the projections provided above (be aware of the right order!)"
   ]
  },
  {
   "cell_type": "code",
   "execution_count": null,
   "id": "1ada5faa",
   "metadata": {},
   "outputs": [],
   "source": [
    "all_prj = np.vstack(lst_all_loaded_projections)\n",
    "print(all_prj.shape)"
   ]
  },
  {
   "cell_type": "code",
   "execution_count": null,
   "id": "93dbc0ec",
   "metadata": {},
   "outputs": [],
   "source": [
    "z_all,x_all,y_all = np.histogram2d(all_prj[:,0],all_prj[:,1], bins=40)   ### Number of bins can be varied\n",
    "\n",
    "F_all = -np.log(z_all) ### compute free energies\n",
    "\n",
    "plt.figure(figsize=(8, 6), dpi=100)  ### contour plot\n",
    "extent_all = [x_all[0], x_all[-1], y_all[0], y_all[-1]]\n",
    "plt.contourf(F_all.T, 50, cmap=plt.cm.hot, extent=extent_all)"
   ]
  },
  {
   "cell_type": "code",
   "execution_count": null,
   "id": "a258318f",
   "metadata": {},
   "outputs": [],
   "source": [
    "all_histos = []\n",
    "for prj in lst_all_loaded_projections:\n",
    "    z_tmp,x_tmp,y_tmp = np.histogram2d(prj[:,0],prj[:,1], bins=(x_all, y_all))\n",
    "    all_histos.append(z_tmp/z_tmp.sum())"
   ]
  },
  {
   "cell_type": "code",
   "execution_count": null,
   "id": "e2b93816",
   "metadata": {},
   "outputs": [],
   "source": [
    "emd_dists = build_emd_array(all_histos, all_val_names, x_all, y_all)"
   ]
  }
 ],
 "metadata": {
  "kernelspec": {
   "display_name": "Python 3",
   "language": "python",
   "name": "python3"
  },
  "language_info": {
   "codemirror_mode": {
    "name": "ipython",
    "version": 3
   },
   "file_extension": ".py",
   "mimetype": "text/x-python",
   "name": "python",
   "nbconvert_exporter": "python",
   "pygments_lexer": "ipython3",
   "version": "3.7.10"
  }
 },
 "nbformat": 4,
 "nbformat_minor": 5
}
