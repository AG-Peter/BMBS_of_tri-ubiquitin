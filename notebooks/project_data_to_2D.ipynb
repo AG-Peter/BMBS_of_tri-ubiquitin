{
 "cells": [
  {
   "cell_type": "code",
   "execution_count": null,
   "metadata": {},
   "outputs": [],
   "source": [
    "import numpy as np\n",
    "import encodermap as em"
   ]
  },
  {
   "cell_type": "code",
   "execution_count": null,
   "metadata": {},
   "outputs": [],
   "source": [
    "path_encodermap_parameters = ''  ### the parameters.json file\n",
    "path_encodermap_checkpoints = '' ### e.g. './trained_encodermap_minimal_example/checkpoints/step10000.ckpt'"
   ]
  },
  {
   "cell_type": "code",
   "execution_count": null,
   "metadata": {},
   "outputs": [],
   "source": [
    "path_projection_output = ''\n",
    "path_high_dim_input = '' ### CVs extracted from atomistic BMBS trajectories"
   ]
  },
  {
   "cell_type": "code",
   "execution_count": null,
   "metadata": {},
   "outputs": [],
   "source": [
    "def project_to_2D_with_given_map(loaded_input_data):\n",
    "\n",
    "    '''\n",
    "    Project the dataset to 2D using the encodermap algorithm.\n",
    "    '''\n",
    "\n",
    "    parameters = em.Parameters.load(path_encodermap_parameters)\n",
    "\n",
    "    autoencoder = em.Autoencoder(parameters, checkpoint_path=path_encodermap_checkpoints,\n",
    "                                 n_inputs=np.shape(loaded_input_data)[1])\n",
    "\n",
    "\n",
    "    projection = autoencoder.encode(loaded_input_data)\n",
    "\n",
    "    np.save(path_projection_output, projection)\n",
    "\n",
    "    autoencoder.close()\n",
    "    \n",
    "    return projection"
   ]
  },
  {
   "cell_type": "code",
   "execution_count": null,
   "metadata": {},
   "outputs": [],
   "source": [
    "loaded_input_data = np.load(path_high_dim_input)\n",
    "\n",
    "projection = project_to_2D_with_given_map(loaded_input_data)"
   ]
  }
 ],
 "metadata": {
  "kernelspec": {
   "display_name": "Python 2",
   "language": "python",
   "name": "python2"
  },
  "language_info": {
   "codemirror_mode": {
    "name": "ipython",
    "version": 3
   },
   "file_extension": ".py",
   "mimetype": "text/x-python",
   "name": "python",
   "nbconvert_exporter": "python",
   "pygments_lexer": "ipython3",
   "version": "3.7.10"
  }
 },
 "nbformat": 4,
 "nbformat_minor": 4
}
