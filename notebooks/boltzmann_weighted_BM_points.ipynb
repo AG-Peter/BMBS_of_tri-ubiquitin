{
 "cells": [
  {
   "cell_type": "code",
   "execution_count": null,
   "metadata": {},
   "outputs": [],
   "source": [
    "import numpy as np\n",
    "import matplotlib.pyplot as plt\n",
    "import pyemma.plots as mplt"
   ]
  },
  {
   "cell_type": "code",
   "execution_count": null,
   "metadata": {},
   "outputs": [],
   "source": [
    "loaded_CG_projection = np.load('')"
   ]
  },
  {
   "cell_type": "code",
   "execution_count": null,
   "metadata": {},
   "outputs": [],
   "source": [
    "number_bins = 60\n",
    "\n",
    "histo, xedges, yedges = np.histogram2d(loaded_CG_projection[:,0], \n",
    "                                       loaded_CG_projection[:,1], \n",
    "                                       bins=number_bins)\n",
    "\n",
    "indices_of_boltzmann_weighted_starting_structures = []\n",
    "\n",
    "while len(indices_of_boltzmann_weighted_starting_structures)<50:\n",
    "    \n",
    "    random_x_bin_index = np.random.randint(0, number_bins)\n",
    "    random_y_bin_index = np.random.randint(0, number_bins)\n",
    "    \n",
    "    acceptance_probability = histo[random_x_bin_index, random_y_bin_index]/len(loaded_CG_projection)\n",
    "    \n",
    "    outcome = np.random.binomial(1, acceptance_probability)\n",
    "    if outcome == 1:\n",
    "\n",
    "        x_range = [xedges[random_x_bin_index], xedges[random_x_bin_index+1]]\n",
    "        y_range = [yedges[random_y_bin_index], yedges[random_y_bin_index+1]]\n",
    "        \n",
    "        lst_candidates = []\n",
    "        for index_data_point_projection,data_point_projection in enumerate(loaded_CG_projection):\n",
    "            if data_point_projection[0]>x_range[0]:\n",
    "                if data_point_projection[0]<x_range[1]:\n",
    "                    if data_point_projection[1]>y_range[0]:\n",
    "                        if data_point_projection[1]<y_range[1]:\n",
    "                            lst_candidates.append(index_data_point_projection)\n",
    "                            \n",
    "        chosen_candidate = lst_candidates[np.random.randint(0,len(lst_candidates))]\n",
    "        \n",
    "        indices_of_boltzmann_weighted_starting_structures.append(chosen_candidate)"
   ]
  },
  {
   "cell_type": "code",
   "execution_count": null,
   "metadata": {},
   "outputs": [],
   "source": [
    "lst_BM_projections = []\n",
    "\n",
    "for index in indices_of_boltzmann_weighted_starting_structures:\n",
    "    lst_BM_projections.append(loaded_CG_projection[index])"
   ]
  },
  {
   "cell_type": "code",
   "execution_count": null,
   "metadata": {},
   "outputs": [],
   "source": [
    "fig = plt.figure(figsize=(10, 8), dpi=600)\n",
    "\n",
    "ax = fig.add_subplot(1, 1, 1)\n",
    "\n",
    "ax.set_facecolor(\"white\")\n",
    "\n",
    "ax.axis('off')\n",
    "\n",
    "mplt.plot_free_energy(loaded_CG_projection[:,0],\n",
    "                      loaded_CG_projection[:,1], ax=ax, \n",
    "                      cmap='nipy_spectral', ncontours=100, nbins=200)\n",
    "\n",
    "for BM_projection in lst_BM_projections:\n",
    "    plt.scatter(float(BM_projection[0]), float(BM_projection[1]), c='blue')\n",
    "\n",
    "plt.show()"
   ]
  },
  {
   "cell_type": "markdown",
   "metadata": {},
   "source": [
    "## Use libraray of choice to extract the chosen CG conformations (e.g. mdanalysis or mdtraj) and apply back-mapping routine (e.g. backwards.py for MARTINI)"
   ]
  }
 ],
 "metadata": {
  "kernelspec": {
   "display_name": "Python 3",
   "language": "python",
   "name": "python3"
  },
  "language_info": {
   "codemirror_mode": {
    "name": "ipython",
    "version": 3
   },
   "file_extension": ".py",
   "mimetype": "text/x-python",
   "name": "python",
   "nbconvert_exporter": "python",
   "pygments_lexer": "ipython3",
   "version": "3.7.10"
  }
 },
 "nbformat": 4,
 "nbformat_minor": 4
}
