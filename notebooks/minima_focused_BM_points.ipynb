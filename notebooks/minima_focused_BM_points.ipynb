{
 "cells": [
  {
   "cell_type": "code",
   "execution_count": null,
   "metadata": {},
   "outputs": [],
   "source": [
    "import numpy as np\n",
    "import matplotlib.pyplot as plt\n",
    "import pyemma.plots as mplt"
   ]
  },
  {
   "cell_type": "code",
   "execution_count": null,
   "metadata": {},
   "outputs": [],
   "source": [
    "loaded_CG_projection = np.load('')"
   ]
  },
  {
   "cell_type": "code",
   "execution_count": null,
   "metadata": {},
   "outputs": [],
   "source": [
    "number_bins = 60\n",
    "amount_of_bm_points = 50"
   ]
  },
  {
   "cell_type": "code",
   "execution_count": null,
   "metadata": {},
   "outputs": [],
   "source": [
    "histo, xedges, yedges = np.histogram2d(loaded_CG_projection[:,0], \n",
    "                                       loaded_CG_projection[:,1], \n",
    "                                       bins=number_bins)\n",
    "\n",
    "lst_bin_population = []\n",
    "for index,population_row in enumerate(histo):\n",
    "    for individual_population in population_row:\n",
    "        lst_bin_population.append(individual_population)\n",
    "lst_bin_population = np.array(lst_bin_population)\n",
    "    \n",
    "\n",
    "indices_of_largest_histos = lst_bin_population.argsort()[-len(lst_bin_population):][::-1]\n",
    "    \n",
    "lst_bins_for_backmapping = []\n",
    "for index in indices_of_largest_histos:\n",
    "    percentage_of_conformations_in_bin = round(lst_bin_population[index]/(sum(lst_bin_population)), 4)\n",
    "    number_of_confs_in_current_bin = int(round(percentage_of_conformations_in_bin*amount_of_bm_points))\n",
    "    if number_of_confs_in_current_bin >= 1:\n",
    "        for conf in range(number_of_confs_in_current_bin):\n",
    "            if len(lst_bins_for_backmapping) < amount_of_bm_points:\n",
    "                lst_bins_for_backmapping.append(index)\n",
    "    else:\n",
    "        if len(lst_bins_for_backmapping) < amount_of_bm_points:\n",
    "            lst_bins_for_backmapping.append(index)\n",
    "    \n",
    "\n",
    "indices_of_minima_focused_starting_structures = []\n",
    "\n",
    "count_candidates = 0\n",
    "lst_candidates = []\n",
    "\n",
    "for index_sorted_bin,sorted_bin in enumerate(lst_bins_for_backmapping):\n",
    "    \n",
    "    bin_number = sorted_bin+1\n",
    "    row_index = int(np.math.ceil((float(bin_number)/float(number_bins))))-1\n",
    "    column_index = bin_number-((row_index)*number_bins)-1\n",
    "\n",
    "    x_range = [xedges[row_index], xedges[row_index+1]]\n",
    "    y_range = [yedges[column_index], yedges[column_index+1]]\n",
    "    \n",
    "    while count_candidates==len(indices_of_minima_focused_starting_structures):\n",
    "        random_index = np.random.randint(0,len(loaded_CG_projection))\n",
    "        data_point_projection = loaded_CG_projection[random_index]\n",
    "        if data_point_projection[0]>x_range[0]:\n",
    "            if data_point_projection[0]<x_range[1]:\n",
    "                if data_point_projection[1]>y_range[0]:\n",
    "                    if data_point_projection[1]<y_range[1]:\n",
    "                        indices_of_minima_focused_starting_structures.append(random_index)\n",
    "\n",
    "    count_candidates+=1"
   ]
  },
  {
   "cell_type": "code",
   "execution_count": null,
   "metadata": {
    "scrolled": true
   },
   "outputs": [],
   "source": [
    "lst_BM_projections = []\n",
    "\n",
    "for index in indices_of_minima_focused_starting_structures:\n",
    "    lst_BM_projections.append(loaded_CG_projection[index])"
   ]
  },
  {
   "cell_type": "code",
   "execution_count": null,
   "metadata": {},
   "outputs": [],
   "source": [
    "fig = plt.figure(figsize=(10, 8), dpi=300)\n",
    "\n",
    "ax = fig.add_subplot(1, 1, 1)\n",
    "\n",
    "ax.set_facecolor(\"white\")\n",
    "\n",
    "ax.axis('off')\n",
    "\n",
    "mplt.plot_free_energy(loaded_CG_projection[:,0],\n",
    "                      loaded_CG_projection[:,1], ax=ax, \n",
    "                      cmap='nipy_spectral', ncontours=100, nbins=200)\n",
    "\n",
    "for BM_projection in lst_BM_projections:\n",
    "    plt.scatter(float(BM_projection[0]), float(BM_projection[1]), c='blue')\n",
    "\n",
    "plt.show()"
   ]
  },
  {
   "cell_type": "markdown",
   "metadata": {},
   "source": [
    "## Use libraray of choice to extract the chosen CG conformations (e.g. mdanalysis or mdtraj) and apply back-mapping routine (e.g. backwards.py for MARTINI)"
   ]
  }
 ],
 "metadata": {
  "kernelspec": {
   "display_name": "Python 3",
   "language": "python",
   "name": "python3"
  },
  "language_info": {
   "codemirror_mode": {
    "name": "ipython",
    "version": 3
   },
   "file_extension": ".py",
   "mimetype": "text/x-python",
   "name": "python",
   "nbconvert_exporter": "python",
   "pygments_lexer": "ipython3",
   "version": "3.7.10"
  }
 },
 "nbformat": 4,
 "nbformat_minor": 4
}
