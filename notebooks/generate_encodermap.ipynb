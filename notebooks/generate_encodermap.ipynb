{
 "cells": [
  {
   "cell_type": "code",
   "execution_count": null,
   "metadata": {},
   "outputs": [],
   "source": [
    "import numpy as np\n",
    "import encodermap as em"
   ]
  },
  {
   "cell_type": "code",
   "execution_count": null,
   "metadata": {},
   "outputs": [],
   "source": [
    "current_working_path = ''\n",
    "path_input_data = '' ### e.g. residue-wise minimal distances (RMD)\n",
    "path_projection_output = ''"
   ]
  },
  {
   "cell_type": "code",
   "execution_count": null,
   "metadata": {},
   "outputs": [],
   "source": [
    "loaded_input_data = np.load(path_input_data)"
   ]
  },
  {
   "cell_type": "code",
   "execution_count": null,
   "metadata": {},
   "outputs": [],
   "source": [
    "S = 20\n",
    "A = 12\n",
    "B = 10\n",
    "s = 1\n",
    "a = 2\n",
    "b = 10\n",
    "\n",
    "parameters = em.Parameters()\n",
    "\n",
    "parameters.main_path= em.misc.run_path(current_working_path)\n",
    "parameters.n_steps = 10000\n",
    "parameters.dist_sig_parameters = (S, A, B, s, a, b)\n",
    "parameters.periodicity = float(\"inf\")   #### for non periodic CVs\n",
    "parameters.auto_cost_scale = 1\n",
    "parameters.auto_cost_variant = 'mean_abs'\n",
    "parameters.distance_cost_scale = 500\n",
    "parameters.l2_reg_constant = 0.001\n",
    "parameters.learning_rate = 0.001\n",
    "parameters.n_neurons=[300,300,300,2]\n",
    "parameters.activation_functions=['', 'tanh', 'tanh', 'tanh', '']\n",
    "\n",
    "autoencoder = em.EncoderMap(parameters, loaded_input_data)\n",
    "\n",
    "autoencoder.train()\n",
    "\n",
    "projection = autoencoder.encode(loaded_input_data)\n",
    "\n",
    "np.save(path_projection_output, projection)\n",
    "\n",
    "autoencoder.close()"
   ]
  }
 ],
 "metadata": {
  "kernelspec": {
   "display_name": "Python 3",
   "language": "python",
   "name": "python3"
  },
  "language_info": {
   "codemirror_mode": {
    "name": "ipython",
    "version": 3
   },
   "file_extension": ".py",
   "mimetype": "text/x-python",
   "name": "python",
   "nbconvert_exporter": "python",
   "pygments_lexer": "ipython3",
   "version": "3.7.10"
  }
 },
 "nbformat": 4,
 "nbformat_minor": 4
}
